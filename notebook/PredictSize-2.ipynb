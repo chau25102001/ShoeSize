{
 "cells": [
  {
   "cell_type": "markdown",
   "metadata": {
    "id": "AJJdMy8N1mr2"
   },
   "source": [
    "# load data"
   ]
  },
  {
   "cell_type": "code",
   "execution_count": 1,
   "metadata": {
    "colab": {
     "base_uri": "https://localhost:8080/"
    },
    "id": "DCBlp1qA1oIu",
    "outputId": "3c3f7a7d-01c8-46d5-b303-13e9a8e0c1a2"
   },
   "outputs": [
    {
     "name": "stdout",
     "output_type": "stream",
     "text": [
      "--2022-06-22 13:26:31--  https://www.dropbox.com/s/ma9dg2rd8f9ktsa/data.zip\n",
      "Resolving www.dropbox.com (www.dropbox.com)... 162.125.4.18, 2620:100:6019:18::a27d:412\n",
      "Connecting to www.dropbox.com (www.dropbox.com)|162.125.4.18|:443... connected.\n",
      "HTTP request sent, awaiting response... 301 Moved Permanently\n",
      "Location: /s/raw/ma9dg2rd8f9ktsa/data.zip [following]\n",
      "--2022-06-22 13:26:31--  https://www.dropbox.com/s/raw/ma9dg2rd8f9ktsa/data.zip\n",
      "Reusing existing connection to www.dropbox.com:443.\n",
      "HTTP request sent, awaiting response... 302 Found\n",
      "Location: https://ucdac38e0fd37a45c6beb35188a9.dl.dropboxusercontent.com/cd/0/inline/BnuBsxrs-bpWa-IcLCq5Akzlj3cZ25Bk2-Rh1U-JwRs-vcnyLdZBFOVwWyahiYi5JeCtcXzrsWZHitwUBu-9I1mKn2Vpq0n9-cpIeQfJEApxdqhKlgq0U27pWQ0UBLX6Eyd_HXzIwDSQhxCjRotmC_VFugH-5Fvx0vMmObEPYViD1A/file# [following]\n",
      "--2022-06-22 13:26:32--  https://ucdac38e0fd37a45c6beb35188a9.dl.dropboxusercontent.com/cd/0/inline/BnuBsxrs-bpWa-IcLCq5Akzlj3cZ25Bk2-Rh1U-JwRs-vcnyLdZBFOVwWyahiYi5JeCtcXzrsWZHitwUBu-9I1mKn2Vpq0n9-cpIeQfJEApxdqhKlgq0U27pWQ0UBLX6Eyd_HXzIwDSQhxCjRotmC_VFugH-5Fvx0vMmObEPYViD1A/file\n",
      "Resolving ucdac38e0fd37a45c6beb35188a9.dl.dropboxusercontent.com (ucdac38e0fd37a45c6beb35188a9.dl.dropboxusercontent.com)... 162.125.4.15, 2620:100:6019:15::a27d:40f\n",
      "Connecting to ucdac38e0fd37a45c6beb35188a9.dl.dropboxusercontent.com (ucdac38e0fd37a45c6beb35188a9.dl.dropboxusercontent.com)|162.125.4.15|:443... connected.\n",
      "HTTP request sent, awaiting response... 302 Found\n",
      "Location: /cd/0/inline2/BntJei-g_VLGxJ3fP93L3K9p5FBZiQX12aK_R-WIqyTecTNSo4d-_Ldl5Evp-i0bKtwSKo5KY55PZZxeUxFs3Xvm5Utv_V1NNZQCaUb49lLTKOJRXryiUTLwULw2-vSYbqZo2x1W772kUiKQGfCxZvkK_4YIiz6wixUQnkkbtX90DC_Z-pdW_dTMvSqBGWSZxuSKrilcK0C8XVKLPKuPB6iNU02C39VMzMz_6bpzTX6T-6fcr8pOQpuNXHMrK2RHzP0CHpnwog2dfr4i4Zu5-gECRtSmIB6bNW7vIAKvM0IXLg88FwyOZkkMEoBf1_sboQEoNpCLnW9gdETeFEPgpkQULByYveyE0AdP_DppyYtgr2C_WE_Xth8O7RBPbcR8z7-iKLzQAf8BZP8WSUxt6s6CeT0tfrZKphGRYB3mvhXAhQ/file [following]\n",
      "--2022-06-22 13:26:32--  https://ucdac38e0fd37a45c6beb35188a9.dl.dropboxusercontent.com/cd/0/inline2/BntJei-g_VLGxJ3fP93L3K9p5FBZiQX12aK_R-WIqyTecTNSo4d-_Ldl5Evp-i0bKtwSKo5KY55PZZxeUxFs3Xvm5Utv_V1NNZQCaUb49lLTKOJRXryiUTLwULw2-vSYbqZo2x1W772kUiKQGfCxZvkK_4YIiz6wixUQnkkbtX90DC_Z-pdW_dTMvSqBGWSZxuSKrilcK0C8XVKLPKuPB6iNU02C39VMzMz_6bpzTX6T-6fcr8pOQpuNXHMrK2RHzP0CHpnwog2dfr4i4Zu5-gECRtSmIB6bNW7vIAKvM0IXLg88FwyOZkkMEoBf1_sboQEoNpCLnW9gdETeFEPgpkQULByYveyE0AdP_DppyYtgr2C_WE_Xth8O7RBPbcR8z7-iKLzQAf8BZP8WSUxt6s6CeT0tfrZKphGRYB3mvhXAhQ/file\n",
      "Reusing existing connection to ucdac38e0fd37a45c6beb35188a9.dl.dropboxusercontent.com:443.\n",
      "HTTP request sent, awaiting response... 200 OK\n",
      "Length: 5440876 (5.2M) [application/zip]\n",
      "Saving to: ‘data.zip’\n",
      "\n",
      "data.zip            100%[===================>]   5.19M  --.-KB/s    in 0.07s   \n",
      "\n",
      "2022-06-22 13:26:32 (71.6 MB/s) - ‘data.zip’ saved [5440876/5440876]\n",
      "\n",
      "--2022-06-22 13:26:32--  https://www.dropbox.com/s/ofeell3vlyxfcnl/foots.zip\n",
      "Resolving www.dropbox.com (www.dropbox.com)... 162.125.4.18, 2620:100:6019:18::a27d:412\n",
      "Connecting to www.dropbox.com (www.dropbox.com)|162.125.4.18|:443... connected.\n",
      "HTTP request sent, awaiting response... 301 Moved Permanently\n",
      "Location: /s/raw/ofeell3vlyxfcnl/foots.zip [following]\n",
      "--2022-06-22 13:26:33--  https://www.dropbox.com/s/raw/ofeell3vlyxfcnl/foots.zip\n",
      "Reusing existing connection to www.dropbox.com:443.\n",
      "HTTP request sent, awaiting response... 302 Found\n",
      "Location: https://uc288cfab8fd7740b4fcbba79d3d.dl.dropboxusercontent.com/cd/0/inline/BntQAdF5w-Rwp9iTozdK6T0Pi_WnxUB4DTdhk2MN0-CUFQ9eQvKpBPeKkQ0t3gRr_M9NCnv0iGKHc8vc5FC117WOQCI07TQQ-KEV-jQ8Qpc-eoSW5ONMsGxpUctIimO2r6MrUMsGPpq_bbYT10xjeQGqPIZqxQVQENqRSWEYJv-jAw/file# [following]\n",
      "--2022-06-22 13:26:33--  https://uc288cfab8fd7740b4fcbba79d3d.dl.dropboxusercontent.com/cd/0/inline/BntQAdF5w-Rwp9iTozdK6T0Pi_WnxUB4DTdhk2MN0-CUFQ9eQvKpBPeKkQ0t3gRr_M9NCnv0iGKHc8vc5FC117WOQCI07TQQ-KEV-jQ8Qpc-eoSW5ONMsGxpUctIimO2r6MrUMsGPpq_bbYT10xjeQGqPIZqxQVQENqRSWEYJv-jAw/file\n",
      "Resolving uc288cfab8fd7740b4fcbba79d3d.dl.dropboxusercontent.com (uc288cfab8fd7740b4fcbba79d3d.dl.dropboxusercontent.com)... 162.125.4.15, 2620:100:6023:15::a27d:430f\n",
      "Connecting to uc288cfab8fd7740b4fcbba79d3d.dl.dropboxusercontent.com (uc288cfab8fd7740b4fcbba79d3d.dl.dropboxusercontent.com)|162.125.4.15|:443... connected.\n",
      "HTTP request sent, awaiting response... 302 Found\n",
      "Location: /cd/0/inline2/BnvfYwyhCVoLyS_an_FdNeZfvvajLXOPOOpwE8uknKVXHNQ6rKMy8RZ4ibYhfJt1nqsGiQQaEg1WI-vMj2bTV6GqnY9PyVdvgB1zLx1DiUpiW4ajn3ct0wGuKZFroMFZXgpf_Fh72E5cxR-9wR8kDDxDpniKBzCCa4FF7BSeKAzZSOgqjCL14dVVx3XS9dd3XwzQaDoSivmsHvhFt7fV6UWPflKAunUAqeQKowNxnOBoKIKUULgZ1yJZ9V1MFeK_sgZC2CAKwMclzanmQOYqNP9SVkjSKdCNETX5jWl068oeoDCTSp7xZj5y-op_tSwzu56lMKkhQsHAZqoOK1BnAMU6D5NuJkaETFT4PkB2qSYV3jPbXtMWfZTbPaR83dqHRe29ENma6ATUZ1GdRakfMB27IAuvs0k65CYm05KGIJDBtg/file [following]\n",
      "--2022-06-22 13:26:33--  https://uc288cfab8fd7740b4fcbba79d3d.dl.dropboxusercontent.com/cd/0/inline2/BnvfYwyhCVoLyS_an_FdNeZfvvajLXOPOOpwE8uknKVXHNQ6rKMy8RZ4ibYhfJt1nqsGiQQaEg1WI-vMj2bTV6GqnY9PyVdvgB1zLx1DiUpiW4ajn3ct0wGuKZFroMFZXgpf_Fh72E5cxR-9wR8kDDxDpniKBzCCa4FF7BSeKAzZSOgqjCL14dVVx3XS9dd3XwzQaDoSivmsHvhFt7fV6UWPflKAunUAqeQKowNxnOBoKIKUULgZ1yJZ9V1MFeK_sgZC2CAKwMclzanmQOYqNP9SVkjSKdCNETX5jWl068oeoDCTSp7xZj5y-op_tSwzu56lMKkhQsHAZqoOK1BnAMU6D5NuJkaETFT4PkB2qSYV3jPbXtMWfZTbPaR83dqHRe29ENma6ATUZ1GdRakfMB27IAuvs0k65CYm05KGIJDBtg/file\n",
      "Reusing existing connection to uc288cfab8fd7740b4fcbba79d3d.dl.dropboxusercontent.com:443.\n",
      "HTTP request sent, awaiting response... 200 OK\n",
      "Length: 3779623 (3.6M) [application/zip]\n",
      "Saving to: ‘foots.zip’\n",
      "\n",
      "foots.zip           100%[===================>]   3.60M  --.-KB/s    in 0.06s   \n",
      "\n",
      "2022-06-22 13:26:34 (63.5 MB/s) - ‘foots.zip’ saved [3779623/3779623]\n",
      "\n"
     ]
    }
   ],
   "source": [
    "!wget https://www.dropbox.com/s/ma9dg2rd8f9ktsa/data.zip\n",
    "!wget https://www.dropbox.com/s/ofeell3vlyxfcnl/foots.zip"
   ]
  },
  {
   "cell_type": "code",
   "execution_count": 2,
   "metadata": {
    "colab": {
     "base_uri": "https://localhost:8080/"
    },
    "id": "oJ9QyBAR1pB8",
    "outputId": "2de33939-31b0-4788-d219-3a6cc4f42eb1"
   },
   "outputs": [
    {
     "name": "stdout",
     "output_type": "stream",
     "text": [
      "Looking in indexes: https://pypi.org/simple, https://us-python.pkg.dev/colab-wheels/public/simple/\n",
      "Collecting segmentation-models-pytorch\n",
      "  Downloading segmentation_models_pytorch-0.2.1-py3-none-any.whl (88 kB)\n",
      "\u001b[K     |████████████████████████████████| 88 kB 7.5 MB/s \n",
      "\u001b[?25hCollecting pretrainedmodels==0.7.4\n",
      "  Downloading pretrainedmodels-0.7.4.tar.gz (58 kB)\n",
      "\u001b[K     |████████████████████████████████| 58 kB 8.0 MB/s \n",
      "\u001b[?25hCollecting efficientnet-pytorch==0.6.3\n",
      "  Downloading efficientnet_pytorch-0.6.3.tar.gz (16 kB)\n",
      "Requirement already satisfied: torchvision>=0.5.0 in /usr/local/lib/python3.7/dist-packages (from segmentation-models-pytorch) (0.12.0+cu113)\n",
      "Collecting timm==0.4.12\n",
      "  Downloading timm-0.4.12-py3-none-any.whl (376 kB)\n",
      "\u001b[K     |████████████████████████████████| 376 kB 62.9 MB/s \n",
      "\u001b[?25hRequirement already satisfied: torch in /usr/local/lib/python3.7/dist-packages (from efficientnet-pytorch==0.6.3->segmentation-models-pytorch) (1.11.0+cu113)\n",
      "Collecting munch\n",
      "  Downloading munch-2.5.0-py2.py3-none-any.whl (10 kB)\n",
      "Requirement already satisfied: tqdm in /usr/local/lib/python3.7/dist-packages (from pretrainedmodels==0.7.4->segmentation-models-pytorch) (4.64.0)\n",
      "Requirement already satisfied: typing-extensions in /usr/local/lib/python3.7/dist-packages (from torch->efficientnet-pytorch==0.6.3->segmentation-models-pytorch) (4.1.1)\n",
      "Requirement already satisfied: numpy in /usr/local/lib/python3.7/dist-packages (from torchvision>=0.5.0->segmentation-models-pytorch) (1.21.6)\n",
      "Requirement already satisfied: requests in /usr/local/lib/python3.7/dist-packages (from torchvision>=0.5.0->segmentation-models-pytorch) (2.23.0)\n",
      "Requirement already satisfied: pillow!=8.3.*,>=5.3.0 in /usr/local/lib/python3.7/dist-packages (from torchvision>=0.5.0->segmentation-models-pytorch) (7.1.2)\n",
      "Requirement already satisfied: six in /usr/local/lib/python3.7/dist-packages (from munch->pretrainedmodels==0.7.4->segmentation-models-pytorch) (1.15.0)\n",
      "Requirement already satisfied: certifi>=2017.4.17 in /usr/local/lib/python3.7/dist-packages (from requests->torchvision>=0.5.0->segmentation-models-pytorch) (2022.6.15)\n",
      "Requirement already satisfied: urllib3!=1.25.0,!=1.25.1,<1.26,>=1.21.1 in /usr/local/lib/python3.7/dist-packages (from requests->torchvision>=0.5.0->segmentation-models-pytorch) (1.24.3)\n",
      "Requirement already satisfied: chardet<4,>=3.0.2 in /usr/local/lib/python3.7/dist-packages (from requests->torchvision>=0.5.0->segmentation-models-pytorch) (3.0.4)\n",
      "Requirement already satisfied: idna<3,>=2.5 in /usr/local/lib/python3.7/dist-packages (from requests->torchvision>=0.5.0->segmentation-models-pytorch) (2.10)\n",
      "Building wheels for collected packages: efficientnet-pytorch, pretrainedmodels\n",
      "  Building wheel for efficientnet-pytorch (setup.py) ... \u001b[?25l\u001b[?25hdone\n",
      "  Created wheel for efficientnet-pytorch: filename=efficientnet_pytorch-0.6.3-py3-none-any.whl size=12421 sha256=52e47a896242d94a47ab52b8e872fa652505763ae1df752d700e97eace4b4fb5\n",
      "  Stored in directory: /root/.cache/pip/wheels/90/6b/0c/f0ad36d00310e65390b0d4c9218ae6250ac579c92540c9097a\n",
      "  Building wheel for pretrainedmodels (setup.py) ... \u001b[?25l\u001b[?25hdone\n",
      "  Created wheel for pretrainedmodels: filename=pretrainedmodels-0.7.4-py3-none-any.whl size=60965 sha256=6c6f9ee6b3b697e52e35c1b5878c13c03f556f2c825ab569554ab04564185b47\n",
      "  Stored in directory: /root/.cache/pip/wheels/ed/27/e8/9543d42de2740d3544db96aefef63bda3f2c1761b3334f4873\n",
      "Successfully built efficientnet-pytorch pretrainedmodels\n",
      "Installing collected packages: munch, timm, pretrainedmodels, efficientnet-pytorch, segmentation-models-pytorch\n",
      "Successfully installed efficientnet-pytorch-0.6.3 munch-2.5.0 pretrainedmodels-0.7.4 segmentation-models-pytorch-0.2.1 timm-0.4.12\n",
      "Looking in indexes: https://pypi.org/simple, https://us-python.pkg.dev/colab-wheels/public/simple/\n",
      "Collecting git+https://github.com/albu/albumentations\n",
      "  Cloning https://github.com/albu/albumentations to /tmp/pip-req-build-td4d_wa7\n",
      "  Running command git clone -q https://github.com/albu/albumentations /tmp/pip-req-build-td4d_wa7\n",
      "Requirement already satisfied: numpy>=1.11.1 in /usr/local/lib/python3.7/dist-packages (from albumentations==1.2.0) (1.21.6)\n",
      "Requirement already satisfied: scipy in /usr/local/lib/python3.7/dist-packages (from albumentations==1.2.0) (1.4.1)\n",
      "Requirement already satisfied: scikit-image>=0.16.1 in /usr/local/lib/python3.7/dist-packages (from albumentations==1.2.0) (0.18.3)\n",
      "Requirement already satisfied: PyYAML in /usr/local/lib/python3.7/dist-packages (from albumentations==1.2.0) (3.13)\n",
      "Collecting qudida>=0.0.4\n",
      "  Downloading qudida-0.0.4-py3-none-any.whl (3.5 kB)\n",
      "Requirement already satisfied: opencv-python>=4.1.1 in /usr/local/lib/python3.7/dist-packages (from albumentations==1.2.0) (4.1.2.30)\n",
      "Requirement already satisfied: typing-extensions in /usr/local/lib/python3.7/dist-packages (from qudida>=0.0.4->albumentations==1.2.0) (4.1.1)\n",
      "Requirement already satisfied: scikit-learn>=0.19.1 in /usr/local/lib/python3.7/dist-packages (from qudida>=0.0.4->albumentations==1.2.0) (1.0.2)\n",
      "Collecting opencv-python-headless>=4.0.1\n",
      "  Downloading opencv_python_headless-4.6.0.66-cp36-abi3-manylinux_2_17_x86_64.manylinux2014_x86_64.whl (48.3 MB)\n",
      "\u001b[K     |████████████████████████████████| 48.3 MB 1.3 MB/s \n",
      "\u001b[?25hRequirement already satisfied: pillow!=7.1.0,!=7.1.1,>=4.3.0 in /usr/local/lib/python3.7/dist-packages (from scikit-image>=0.16.1->albumentations==1.2.0) (7.1.2)\n",
      "Requirement already satisfied: PyWavelets>=1.1.1 in /usr/local/lib/python3.7/dist-packages (from scikit-image>=0.16.1->albumentations==1.2.0) (1.3.0)\n",
      "Requirement already satisfied: matplotlib!=3.0.0,>=2.0.0 in /usr/local/lib/python3.7/dist-packages (from scikit-image>=0.16.1->albumentations==1.2.0) (3.2.2)\n",
      "Requirement already satisfied: imageio>=2.3.0 in /usr/local/lib/python3.7/dist-packages (from scikit-image>=0.16.1->albumentations==1.2.0) (2.4.1)\n",
      "Requirement already satisfied: networkx>=2.0 in /usr/local/lib/python3.7/dist-packages (from scikit-image>=0.16.1->albumentations==1.2.0) (2.6.3)\n",
      "Requirement already satisfied: tifffile>=2019.7.26 in /usr/local/lib/python3.7/dist-packages (from scikit-image>=0.16.1->albumentations==1.2.0) (2021.11.2)\n",
      "Requirement already satisfied: kiwisolver>=1.0.1 in /usr/local/lib/python3.7/dist-packages (from matplotlib!=3.0.0,>=2.0.0->scikit-image>=0.16.1->albumentations==1.2.0) (1.4.3)\n",
      "Requirement already satisfied: cycler>=0.10 in /usr/local/lib/python3.7/dist-packages (from matplotlib!=3.0.0,>=2.0.0->scikit-image>=0.16.1->albumentations==1.2.0) (0.11.0)\n",
      "Requirement already satisfied: python-dateutil>=2.1 in /usr/local/lib/python3.7/dist-packages (from matplotlib!=3.0.0,>=2.0.0->scikit-image>=0.16.1->albumentations==1.2.0) (2.8.2)\n",
      "Requirement already satisfied: pyparsing!=2.0.4,!=2.1.2,!=2.1.6,>=2.0.1 in /usr/local/lib/python3.7/dist-packages (from matplotlib!=3.0.0,>=2.0.0->scikit-image>=0.16.1->albumentations==1.2.0) (3.0.9)\n",
      "Requirement already satisfied: six>=1.5 in /usr/local/lib/python3.7/dist-packages (from python-dateutil>=2.1->matplotlib!=3.0.0,>=2.0.0->scikit-image>=0.16.1->albumentations==1.2.0) (1.15.0)\n",
      "Requirement already satisfied: joblib>=0.11 in /usr/local/lib/python3.7/dist-packages (from scikit-learn>=0.19.1->qudida>=0.0.4->albumentations==1.2.0) (1.1.0)\n",
      "Requirement already satisfied: threadpoolctl>=2.0.0 in /usr/local/lib/python3.7/dist-packages (from scikit-learn>=0.19.1->qudida>=0.0.4->albumentations==1.2.0) (3.1.0)\n",
      "Building wheels for collected packages: albumentations\n",
      "  Building wheel for albumentations (setup.py) ... \u001b[?25l\u001b[?25hdone\n",
      "  Created wheel for albumentations: filename=albumentations-1.2.0-py3-none-any.whl size=113493 sha256=d679ab3b6f1a094ac8a4a6b8102fd5a5a753269679eff3a1d56e50cdb439fbe2\n",
      "  Stored in directory: /tmp/pip-ephem-wheel-cache-ijgpaq5j/wheels/63/11/1a/c77caf3ae9b9b6d57b3ee5e6a41a50f3bc12c66a70f6b90bf0\n",
      "Successfully built albumentations\n",
      "Installing collected packages: opencv-python-headless, qudida, albumentations\n",
      "  Attempting uninstall: albumentations\n",
      "    Found existing installation: albumentations 0.1.12\n",
      "    Uninstalling albumentations-0.1.12:\n",
      "      Successfully uninstalled albumentations-0.1.12\n",
      "Successfully installed albumentations-1.2.0 opencv-python-headless-4.6.0.66 qudida-0.0.4\n"
     ]
    }
   ],
   "source": [
    "# Install required libs\n",
    "!pip install -U segmentation-models-pytorch --user \n",
    "!pip install -U git+https://github.com/albu/albumentations --no-cache-dir"
   ]
  },
  {
   "cell_type": "code",
   "execution_count": 3,
   "metadata": {
    "colab": {
     "base_uri": "https://localhost:8080/"
    },
    "id": "gCy8Xl3r2W4G",
    "outputId": "0269c624-f625-47e7-e300-d4a6720d54e8"
   },
   "outputs": [
    {
     "name": "stdout",
     "output_type": "stream",
     "text": [
      "Archive:  data.zip\n",
      "   creating: test/\n",
      "  inflating: __MACOSX/._test         \n",
      "  inflating: test/24002.jpeg         \n",
      "  inflating: __MACOSX/test/._24002.jpeg  \n",
      "  inflating: test/23991.jpeg         \n",
      "  inflating: __MACOSX/test/._23991.jpeg  \n",
      "  inflating: test/24003.jpeg         \n",
      "  inflating: __MACOSX/test/._24003.jpeg  \n",
      "  inflating: test/24008.jpeg         \n",
      "  inflating: __MACOSX/test/._24008.jpeg  \n",
      "  inflating: test/23871.jpeg         \n",
      "  inflating: __MACOSX/test/._23871.jpeg  \n",
      "  inflating: test/24009.jpeg         \n",
      "  inflating: __MACOSX/test/._24009.jpeg  \n",
      "  inflating: test/24007.jpeg         \n",
      "  inflating: __MACOSX/test/._24007.jpeg  \n",
      "  inflating: test/23941.jpeg         \n",
      "  inflating: __MACOSX/test/._23941.jpeg  \n",
      "  inflating: test/24011.jpeg         \n",
      "  inflating: __MACOSX/test/._24011.jpeg  \n",
      "  inflating: test/24000.jpeg         \n",
      "  inflating: __MACOSX/test/._24000.jpeg  \n",
      "  inflating: test/24001.jpeg         \n",
      "  inflating: __MACOSX/test/._24001.jpeg  \n",
      "  inflating: test/23822.jpeg         \n",
      "  inflating: __MACOSX/test/._23822.jpeg  \n",
      "   creating: testannot/\n",
      "  inflating: testannot/23991.png     \n",
      "  inflating: testannot/23822.png     \n",
      "  inflating: testannot/24009.png     \n",
      "  inflating: testannot/23941.png     \n",
      "  inflating: testannot/24008.png     \n",
      "  inflating: testannot/24011.png     \n",
      "  inflating: testannot/24007.png     \n",
      "  inflating: testannot/24003.png     \n",
      "  inflating: testannot/24002.png     \n",
      "  inflating: testannot/24000.png     \n",
      "  inflating: testannot/24001.png     \n",
      "  inflating: testannot/23871.png     \n",
      "   creating: train/\n",
      "  inflating: __MACOSX/._train        \n",
      "  inflating: train/24002.jpeg        \n",
      "  inflating: __MACOSX/train/._24002.jpeg  \n",
      "  inflating: train/23991.jpeg        \n",
      "  inflating: __MACOSX/train/._23991.jpeg  \n",
      "  inflating: train/24003.jpeg        \n",
      "  inflating: __MACOSX/train/._24003.jpeg  \n",
      "  inflating: train/24008.jpeg        \n",
      "  inflating: __MACOSX/train/._24008.jpeg  \n",
      "  inflating: train/23871.jpeg        \n",
      "  inflating: __MACOSX/train/._23871.jpeg  \n",
      "  inflating: train/24009.jpeg        \n",
      "  inflating: __MACOSX/train/._24009.jpeg  \n",
      "  inflating: train/24007.jpeg        \n",
      "  inflating: __MACOSX/train/._24007.jpeg  \n",
      "  inflating: train/23941.jpeg        \n",
      "  inflating: __MACOSX/train/._23941.jpeg  \n",
      "  inflating: train/24011.jpeg        \n",
      "  inflating: __MACOSX/train/._24011.jpeg  \n",
      "  inflating: train/24000.jpeg        \n",
      "  inflating: __MACOSX/train/._24000.jpeg  \n",
      "  inflating: train/24001.jpeg        \n",
      "  inflating: __MACOSX/train/._24001.jpeg  \n",
      "  inflating: train/23822.jpeg        \n",
      "  inflating: __MACOSX/train/._23822.jpeg  \n",
      "   creating: trainannot/\n",
      "  inflating: trainannot/23991.png    \n",
      "  inflating: trainannot/23822.png    \n",
      "  inflating: trainannot/24009.png    \n",
      "  inflating: trainannot/23941.png    \n",
      "  inflating: trainannot/24008.png    \n",
      "  inflating: trainannot/24011.png    \n",
      "  inflating: trainannot/24007.png    \n",
      "  inflating: trainannot/24003.png    \n",
      "  inflating: trainannot/24002.png    \n",
      "  inflating: trainannot/24000.png    \n",
      "  inflating: trainannot/24001.png    \n",
      "  inflating: trainannot/23871.png    \n",
      "   creating: val/\n",
      "  inflating: __MACOSX/._val          \n",
      "  inflating: val/24002.jpeg          \n",
      "  inflating: __MACOSX/val/._24002.jpeg  \n",
      "  inflating: val/23991.jpeg          \n",
      "  inflating: __MACOSX/val/._23991.jpeg  \n",
      "  inflating: val/24003.jpeg          \n",
      "  inflating: __MACOSX/val/._24003.jpeg  \n",
      "  inflating: val/24008.jpeg          \n",
      "  inflating: __MACOSX/val/._24008.jpeg  \n",
      "  inflating: val/23871.jpeg          \n",
      "  inflating: __MACOSX/val/._23871.jpeg  \n",
      "  inflating: val/24009.jpeg          \n",
      "  inflating: __MACOSX/val/._24009.jpeg  \n",
      "  inflating: val/24007.jpeg          \n",
      "  inflating: __MACOSX/val/._24007.jpeg  \n",
      "  inflating: val/23941.jpeg          \n",
      "  inflating: __MACOSX/val/._23941.jpeg  \n",
      "  inflating: val/24011.jpeg          \n",
      "  inflating: __MACOSX/val/._24011.jpeg  \n",
      "  inflating: val/24000.jpeg          \n",
      "  inflating: __MACOSX/val/._24000.jpeg  \n",
      "  inflating: val/24001.jpeg          \n",
      "  inflating: __MACOSX/val/._24001.jpeg  \n",
      "  inflating: val/23822.jpeg          \n",
      "  inflating: __MACOSX/val/._23822.jpeg  \n",
      "   creating: valannot/\n",
      "  inflating: valannot/23991.png      \n",
      "  inflating: valannot/23822.png      \n",
      "  inflating: valannot/24009.png      \n",
      "  inflating: valannot/23941.png      \n",
      "  inflating: valannot/24008.png      \n",
      "  inflating: valannot/24011.png      \n",
      "  inflating: valannot/24007.png      \n",
      "  inflating: valannot/24003.png      \n",
      "  inflating: valannot/24002.png      \n",
      "  inflating: valannot/24000.png      \n",
      "  inflating: valannot/24001.png      \n",
      "  inflating: valannot/23871.png      \n",
      "Archive:  foots.zip\n",
      "   creating: images/\n",
      "  inflating: __MACOSX/._images       \n",
      "  inflating: images/24059.jpeg       \n",
      "  inflating: __MACOSX/images/._24059.jpeg  \n",
      "  inflating: images/24063.jpeg       \n",
      "  inflating: __MACOSX/images/._24063.jpeg  \n",
      "  inflating: images/24034.jpeg       \n",
      "  inflating: __MACOSX/images/._24034.jpeg  \n",
      "  inflating: images/24075.jpeg       \n",
      "  inflating: __MACOSX/images/._24075.jpeg  \n",
      "  inflating: images/24055.jpeg       \n",
      "  inflating: __MACOSX/images/._24055.jpeg  \n",
      "  inflating: images/24043.jpeg       \n",
      "  inflating: __MACOSX/images/._24043.jpeg  \n",
      "  inflating: images/24080.jpeg       \n",
      "  inflating: __MACOSX/images/._24080.jpeg  \n",
      "  inflating: images/24038.jpeg       \n",
      "  inflating: __MACOSX/images/._24038.jpeg  \n",
      "  inflating: images/24078.jpeg       \n",
      "  inflating: __MACOSX/images/._24078.jpeg  \n",
      "  inflating: images/24039.jpeg       \n",
      "  inflating: __MACOSX/images/._24039.jpeg  \n",
      "  inflating: images/24042.jpeg       \n",
      "  inflating: __MACOSX/images/._24042.jpeg  \n",
      "  inflating: images/24074.jpeg       \n",
      "  inflating: __MACOSX/images/._24074.jpeg  \n",
      "  inflating: images/24035.jpeg       \n",
      "  inflating: __MACOSX/images/._24035.jpeg  \n",
      "  inflating: images/24062.jpeg       \n",
      "  inflating: __MACOSX/images/._24062.jpeg  \n",
      "  inflating: images/24058.jpeg       \n",
      "  inflating: __MACOSX/images/._24058.jpeg  \n",
      "  inflating: images/24053.jpeg       \n",
      "  inflating: __MACOSX/images/._24053.jpeg  \n",
      "  inflating: images/24045.jpeg       \n",
      "  inflating: __MACOSX/images/._24045.jpeg  \n",
      "  inflating: images/24069.jpeg       \n",
      "  inflating: __MACOSX/images/._24069.jpeg  \n",
      "  inflating: images/24028.jpeg       \n",
      "  inflating: __MACOSX/images/._24028.jpeg  \n",
      "  inflating: images/24049.jpeg       \n",
      "  inflating: __MACOSX/images/._24049.jpeg  \n",
      "  inflating: images/24065.jpeg       \n",
      "  inflating: __MACOSX/images/._24065.jpeg  \n",
      "  inflating: images/24032.jpeg       \n",
      "  inflating: __MACOSX/images/._24032.jpeg  \n",
      "  inflating: images/24073.jpeg       \n",
      "  inflating: __MACOSX/images/._24073.jpeg  \n",
      "  inflating: images/24072.jpeg       \n",
      "  inflating: __MACOSX/images/._24072.jpeg  \n",
      "  inflating: images/24033.jpeg       \n",
      "  inflating: __MACOSX/images/._24033.jpeg  \n",
      "  inflating: images/24064.jpeg       \n",
      "  inflating: __MACOSX/images/._24064.jpeg  \n",
      "  inflating: images/24048.jpeg       \n",
      "  inflating: __MACOSX/images/._24048.jpeg  \n",
      "  inflating: images/24029.jpeg       \n",
      "  inflating: __MACOSX/images/._24029.jpeg  \n",
      "  inflating: images/24068.jpeg       \n",
      "  inflating: __MACOSX/images/._24068.jpeg  \n",
      "  inflating: images/24044.jpeg       \n",
      "  inflating: __MACOSX/images/._24044.jpeg  \n",
      "  inflating: images/24052.jpeg       \n",
      "  inflating: __MACOSX/images/._24052.jpeg  \n",
      "  inflating: images/24047.jpeg       \n",
      "  inflating: __MACOSX/images/._24047.jpeg  \n",
      "  inflating: images/24051.jpeg       \n",
      "  inflating: __MACOSX/images/._24051.jpeg  \n",
      "  inflating: images/24071.jpeg       \n",
      "  inflating: __MACOSX/images/._24071.jpeg  \n",
      "  inflating: images/24030.jpeg       \n",
      "  inflating: __MACOSX/images/._24030.jpeg  \n",
      "  inflating: images/24067.jpeg       \n",
      "  inflating: __MACOSX/images/._24067.jpeg  \n",
      "  inflating: images/24066.jpeg       \n",
      "  inflating: __MACOSX/images/._24066.jpeg  \n",
      "  inflating: images/24031.jpeg       \n",
      "  inflating: __MACOSX/images/._24031.jpeg  \n",
      "  inflating: images/24070.jpeg       \n",
      "  inflating: __MACOSX/images/._24070.jpeg  \n",
      "  inflating: images/24050.jpeg       \n",
      "  inflating: __MACOSX/images/._24050.jpeg  \n",
      "  inflating: images/24046.jpeg       \n",
      "  inflating: __MACOSX/images/._24046.jpeg  \n",
      "  inflating: images/24077.jpeg       \n",
      "  inflating: __MACOSX/images/._24077.jpeg  \n",
      "  inflating: images/24036.jpeg       \n",
      "  inflating: __MACOSX/images/._24036.jpeg  \n",
      "  inflating: images/24061.jpeg       \n",
      "  inflating: __MACOSX/images/._24061.jpeg  \n",
      "  inflating: images/24041.jpeg       \n",
      "  inflating: __MACOSX/images/._24041.jpeg  \n",
      "  inflating: images/24057.jpeg       \n",
      "  inflating: __MACOSX/images/._24057.jpeg  \n",
      "  inflating: images/24056.jpeg       \n",
      "  inflating: __MACOSX/images/._24056.jpeg  \n",
      "  inflating: images/24040.jpeg       \n",
      "  inflating: __MACOSX/images/._24040.jpeg  \n",
      "  inflating: images/24060.jpeg       \n",
      "  inflating: __MACOSX/images/._24060.jpeg  \n",
      "  inflating: images/24037.jpeg       \n",
      "  inflating: __MACOSX/images/._24037.jpeg  \n",
      "  inflating: images/24076.jpeg       \n",
      "  inflating: __MACOSX/images/._24076.jpeg  \n",
      "   creating: mask_images/\n",
      "  inflating: mask_images/24053.png   \n",
      "  inflating: mask_images/24047.png   \n",
      "  inflating: mask_images/24046.png   \n",
      "  inflating: mask_images/24052.png   \n",
      "  inflating: mask_images/24044.png   \n",
      "  inflating: mask_images/24050.png   \n",
      "  inflating: mask_images/24078.png   \n",
      "  inflating: mask_images/24051.png   \n",
      "  inflating: mask_images/24045.png   \n",
      "  inflating: mask_images/24069.png   \n",
      "  inflating: mask_images/24041.png   \n",
      "  inflating: mask_images/24055.png   \n",
      "  inflating: mask_images/24040.png   \n",
      "  inflating: mask_images/24068.png   \n",
      "  inflating: mask_images/24056.png   \n",
      "  inflating: mask_images/24042.png   \n",
      "  inflating: mask_images/24080.png   \n",
      "  inflating: mask_images/24043.png   \n",
      "  inflating: mask_images/24057.png   \n",
      "  inflating: mask_images/24030.png   \n",
      "  inflating: mask_images/24031.png   \n",
      "  inflating: mask_images/24033.png   \n",
      "  inflating: mask_images/24032.png   \n",
      "  inflating: mask_images/24036.png   \n",
      "  inflating: mask_images/24037.png   \n",
      "  inflating: mask_images/24035.png   \n",
      "  inflating: mask_images/24034.png   \n",
      "  inflating: mask_images/24039.png   \n",
      "  inflating: mask_images/24038.png   \n",
      "  inflating: mask_images/24028.png   \n",
      "  inflating: mask_images/24029.png   \n",
      "  inflating: mask_images/24072.png   \n",
      "  inflating: mask_images/24066.png   \n",
      "  inflating: mask_images/24067.png   \n",
      "  inflating: mask_images/24073.png   \n",
      "  inflating: mask_images/24065.png   \n",
      "  inflating: mask_images/24071.png   \n",
      "  inflating: mask_images/24059.png   \n",
      "  inflating: mask_images/24058.png   \n",
      "  inflating: mask_images/24070.png   \n",
      "  inflating: mask_images/24064.png   \n",
      "  inflating: mask_images/24048.png   \n",
      "  inflating: mask_images/24060.png   \n",
      "  inflating: mask_images/24074.png   \n",
      "  inflating: mask_images/24075.png   \n",
      "  inflating: mask_images/24061.png   \n",
      "  inflating: mask_images/24049.png   \n",
      "  inflating: mask_images/24077.png   \n",
      "  inflating: mask_images/24063.png   \n",
      "  inflating: mask_images/24062.png   \n",
      "  inflating: mask_images/24076.png   \n"
     ]
    }
   ],
   "source": [
    "#!rm -r data # xoá thư mục data nếu nó đã tồn tại\n",
    "!unzip data.zip # tải dữ liệu trong file data.zip \n",
    "!unzip foots.zip\n"
   ]
  },
  {
   "cell_type": "code",
   "execution_count": 4,
   "metadata": {
    "colab": {
     "base_uri": "https://localhost:8080/"
    },
    "id": "_7iY35-3M1mS",
    "outputId": "08d3cdf6-854e-40a9-bf33-247d8745405a"
   },
   "outputs": [
    {
     "name": "stdout",
     "output_type": "stream",
     "text": [
      "Number of train data: 12 ----- Number of trainannot: 12\n"
     ]
    }
   ],
   "source": [
    "import os\n",
    "print(\"Number of train data: {} ----- Number of trainannot: {}\".format(\n",
    "    len(os.listdir('train')),len(os.listdir('trainannot'))\n",
    "    ))"
   ]
  },
  {
   "cell_type": "code",
   "execution_count": 5,
   "metadata": {
    "id": "ziB73o_EMOJB"
   },
   "outputs": [],
   "source": [
    "cp ./images/* ./train/ "
   ]
  },
  {
   "cell_type": "code",
   "execution_count": 6,
   "metadata": {
    "id": "zx3dv0PUN_me"
   },
   "outputs": [],
   "source": [
    "cp ./mask_images/* ./trainannot/ "
   ]
  },
  {
   "cell_type": "code",
   "execution_count": 7,
   "metadata": {
    "colab": {
     "base_uri": "https://localhost:8080/"
    },
    "id": "2UUkTNtMNudl",
    "outputId": "2b547f5c-3bd2-4f00-b4ef-39970a6c5e33"
   },
   "outputs": [
    {
     "name": "stdout",
     "output_type": "stream",
     "text": [
      "Number of train data: 63 ----- Number of trainannot: 63\n"
     ]
    }
   ],
   "source": [
    "print(\"Number of train data: {} ----- Number of trainannot: {}\".format(\n",
    "    len(os.listdir('train')),len(os.listdir('trainannot'))\n",
    "    ))"
   ]
  },
  {
   "cell_type": "code",
   "execution_count": 8,
   "metadata": {
    "colab": {
     "base_uri": "https://localhost:8080/"
    },
    "id": "uUrXhokx2jnj",
    "outputId": "fdfee6bc-44a3-4e9a-afc1-f090571e6302"
   },
   "outputs": [
    {
     "name": "stdout",
     "output_type": "stream",
     "text": [
      "Looking in indexes: https://pypi.org/simple, https://us-python.pkg.dev/colab-wheels/public/simple/\n",
      "Collecting opencv-python-headless==4.5.2.52\n",
      "  Downloading opencv_python_headless-4.5.2.52-cp37-cp37m-manylinux2014_x86_64.whl (38.2 MB)\n",
      "\u001b[K     |████████████████████████████████| 38.2 MB 1.2 MB/s \n",
      "\u001b[?25hRequirement already satisfied: numpy>=1.14.5 in /usr/local/lib/python3.7/dist-packages (from opencv-python-headless==4.5.2.52) (1.21.6)\n",
      "Installing collected packages: opencv-python-headless\n",
      "  Attempting uninstall: opencv-python-headless\n",
      "    Found existing installation: opencv-python-headless 4.6.0.66\n",
      "    Uninstalling opencv-python-headless-4.6.0.66:\n",
      "      Successfully uninstalled opencv-python-headless-4.6.0.66\n",
      "Successfully installed opencv-python-headless-4.5.2.52\n"
     ]
    }
   ],
   "source": [
    "!pip install opencv-python-headless==4.5.2.52"
   ]
  },
  {
   "cell_type": "code",
   "execution_count": 9,
   "metadata": {
    "id": "T0-6-wc45721"
   },
   "outputs": [],
   "source": [
    "import os\n",
    "os.environ['CUDA_VISIBLE_DEVICES'] = '0'\n",
    "\n",
    "import numpy as np\n",
    "import cv2\n",
    "import matplotlib.pyplot as plt"
   ]
  },
  {
   "cell_type": "code",
   "execution_count": 10,
   "metadata": {
    "id": "pGxmK3h56Ae8"
   },
   "outputs": [],
   "source": [
    "# get dir\n",
    "x_train_dir = 'train'\n",
    "y_train_dir = 'trainannot'\n",
    "\n",
    "x_valid_dir = 'val'\n",
    "y_valid_dir = 'valannot'\n",
    "\n",
    "x_test_dir = 'test'\n",
    "y_test_dir = 'testannot'\n",
    "\n"
   ]
  },
  {
   "cell_type": "code",
   "execution_count": 11,
   "metadata": {
    "id": "fSOr9nXp6ZW3"
   },
   "outputs": [],
   "source": [
    "# tạo hàm hỗ trợ việc ta trực quan hoá dữ liệu(see image)\n",
    "\n",
    "def visualize(**images):\n",
    "  n = len(images)\n",
    "  plt.figure(figsize = (16,5))\n",
    "  for i,(name,img) in enumerate(images.items()):\n",
    "    plt.subplot(1,n,i+1)\n",
    "    plt.xticks([])\n",
    "    plt.xticks([])\n",
    "    plt.title(\" \".join(name.split(\"_\")).title()) \n",
    "    plt.imshow(img)\n",
    "  plt.show()\n",
    "\n"
   ]
  },
  {
   "cell_type": "markdown",
   "metadata": {
    "id": "BElQaQ7h7d5M"
   },
   "source": [
    "#data loader"
   ]
  },
  {
   "cell_type": "code",
   "execution_count": 12,
   "metadata": {
    "id": "l32XcXW47fh9"
   },
   "outputs": [],
   "source": [
    "from torch.utils.data import DataLoader\n",
    "from torch.utils.data import Dataset as BaseDataset"
   ]
  },
  {
   "cell_type": "code",
   "execution_count": 13,
   "metadata": {
    "id": "_lM-mVQD7ixf"
   },
   "outputs": [],
   "source": [
    "class Dataset(BaseDataset):\n",
    "    \"\"\" Dataset. Read images, apply augmentation and preprocessing transformations.\n",
    "    \n",
    "    Args:\n",
    "        images_dir (str): path to images folder\n",
    "        masks_dir (str): path to segmentation masks folder\n",
    "        class_values (list): values of classes to extract from segmentation mask\n",
    "        augmentation (albumentations.Compose): data transfromation pipeline \n",
    "            (e.g. flip, scale, etc.)\n",
    "        preprocessing (albumentations.Compose): data preprocessing \n",
    "            (e.g. noralization, shape manipulation, etc.)\n",
    "    \n",
    "    \"\"\"\n",
    "\n",
    "    CLASSES = {'foot': 255,'unlabel': 0}\n",
    "\n",
    "    def __init__(\n",
    "        self,\n",
    "        image_dir,\n",
    "        mask_dir,\n",
    "        classes = None,\n",
    "        augmentation = None,\n",
    "        preprocessing = None,\n",
    "        train = False\n",
    "    ):\n",
    "        # Lấy tất cả các tên file có trong mask_dir\n",
    "        self.file_image_name = os.listdir(image_dir)\n",
    "        if train:\n",
    "          for j in range(5):\n",
    "            for i in os.listdir(image_dir):\n",
    "              self.file_image_name.append(i)\n",
    "        \n",
    "        # Lấy các đường dẫn tới tên file\n",
    "        # Vì 2 tập nó khác nhau về đuổi ảnh nên ta sẽ phải thêm 1 bươc tách đuôi của tập mask vì ta đang dùng chỉ\n",
    "        # mục theo image\n",
    "        self.image_fps = [os.path.join(image_dir,image_name) for image_name in self.file_image_name]\n",
    "        self.mask_fps = [os.path.join(mask_dir,mask_name[:mask_name.index('.')]+'.png') for mask_name in self.file_image_name]\n",
    "        # chuyển các str trong classes từ giá trị có trong CLASSES\n",
    "        self.class_values = [self.CLASSES[cls.lower()] for cls in classes]\n",
    "\n",
    "        self.augmentation = augmentation\n",
    "        self.preprocessing = preprocessing\n",
    "    \n",
    "    def __getitem__(self,i):\n",
    "      # get path\n",
    "      file_path  = self.image_fps[i]\n",
    "      # đọc file\n",
    "      image = cv2.imread(file_path)\n",
    "      # chuyển sang màu RGB\n",
    "      image = cv2.cvtColor(image, cv2.COLOR_BGR2RGB)\n",
    "      # đọc hình ảnh thang đo độ xám \n",
    "      mask = cv2.imread(self.mask_fps[i],0)\n",
    "      # trích xuất các lớp nhất định từ masks(ví dụ cars)\n",
    "      # Để những chỗ có mask = màu tráng là true\n",
    "      masks = [(mask == v) for v in self.class_values]\n",
    "      \n",
    "      mask = np.stack(masks, axis=-1).astype('float')\n",
    "  \n",
    "      # Tinh chỉnh hình cảnh cắt,đệm,mờ,...\n",
    "      if self.augmentation:\n",
    "          sample = self.augmentation(mask = mask,image = image)\n",
    "          image,mask = sample['image'],sample['mask']\n",
    "      \n",
    "      if self.preprocessing:\n",
    "          sample = self.preprocessing(image = image,mask=mask)\n",
    "          image,mask = sample['image'],sample['mask']\n",
    "      \n",
    "      return image,mask\n",
    "    def __len__(self):\n",
    "        return len(self.file_image_name)"
   ]
  },
  {
   "cell_type": "code",
   "execution_count": 14,
   "metadata": {
    "colab": {
     "base_uri": "https://localhost:8080/",
     "height": 322
    },
    "id": "wgYF6zfd-BDy",
    "outputId": "377ab560-bdff-4f81-d635-fa230658d09e"
   },
   "outputs": [
    {
     "data": {
      "image/png": "[encoded data removed]",
      "text/plain": [
       "<Figure size 1152x360 with 2 Axes>"
      ]
     },
     "metadata": {
      "needs_background": "light"
     },
     "output_type": "display_data"
    }
   ],
   "source": [
    "dataset = Dataset(x_train_dir,y_train_dir,classes=['foot'])\n",
    "image,mask = dataset[1]\n",
    "visualize(\n",
    "    image = image,\n",
    "    mask = mask.squeeze()\n",
    ")\n"
   ]
  },
  {
   "cell_type": "code",
   "execution_count": 15,
   "metadata": {
    "id": "t4r7RR8-DNtX"
   },
   "outputs": [],
   "source": [
    "import albumentations as albu"
   ]
  },
  {
   "cell_type": "code",
   "execution_count": 16,
   "metadata": {
    "id": "mQ0weUdzDm-B"
   },
   "outputs": [],
   "source": [
    "def get_training_augmentation():\n",
    "  training_transform = [\n",
    "                        # xoay ngang ảnh\n",
    "                        albu.HorizontalFlip(p=0.5),\n",
    "                        # dịch, nếu là 0.5 tối đa chia về = 0.5 kích thước ban đầu,xoay\n",
    "                        albu.ShiftScaleRotate(shift_limit=0.3,scale_limit=0.3,rotate_limit=45,border_mode=0,p = 1),\n",
    "                        # padding if heigh or with less than 320\n",
    "                        albu.PadIfNeeded(min_height=960,min_width=960,p=1),\n",
    "                        # Cắt bất kì miễn là đủ 320x320\n",
    "                        albu.RandomCrop(height=960,width=960,p=1),\n",
    "                        albu.GaussNoise(p=0.3),\n",
    "                        albu.Perspective(p=0.5),\n",
    "                        \n",
    "                        albu.OneOf(\n",
    "                            [\n",
    "                            # Cân bằng biểu đồ thích ứng có giới hạn độ tương phản cho hình ảnh đầu vào\n",
    "                            albu.CLAHE(p=1),\n",
    "                            # Chỉnh độ sáng\n",
    "                            albu.RandomBrightness(limit=0.3,p=1),\n",
    "                            albu.RandomGamma(p=1),\n",
    "                            ],p=0.9\n",
    "                        ),\n",
    "\n",
    "                        albu.OneOf(\n",
    "                            [\n",
    "                             # Làm nét ảnh\n",
    "                             albu.Sharpen(p=1),\n",
    "                             # Làm mờ ảnh, dùng tối đa đến 3x3\n",
    "                             albu.Blur(blur_limit=3,p=1),\n",
    "                              # Làm mờ đối tượng đang chuyển động, dùng tối đa đến 3x3\n",
    "                             albu.MotionBlur(blur_limit=3,p=1)\n",
    "                            ],p=0.9\n",
    "                        ),\n",
    "\n",
    "                        albu.OneOf([\n",
    "                               # tạo độ tương phản\n",
    "                               albu.RandomContrast(p=1),\n",
    "                               #Dùng để hiệu chỉnh màu sắc, độ bão hòa, giá trị của ảnh\n",
    "                               albu.HueSaturationValue(p=1),     \n",
    "                        ],p=0.9\n",
    "                        )\n",
    "                ]\n",
    "  return albu.Compose(training_transform)\n",
    "\n",
    "\n",
    "def get_validation_augmention():\n",
    "  validation_transform=[\n",
    "        albu.PadIfNeeded(min_height= None,min_width=None,pad_height_divisor=32,pad_width_divisor=32)     ,\n",
    "  ]\n",
    "  return albu.Compose(validation_transform)\n",
    "def get_testing_augmention():\n",
    "  validation_transform=[\n",
    "      albu.PadIfNeeded(min_height= None,min_width=None,pad_height_divisor=32,pad_width_divisor=32)     ,\n",
    "  ]\n",
    "  return albu.Compose(validation_transform)\n",
    "def to_tensor(x, **kwargs):\n",
    "    # đưa về dạng chuẩn \n",
    "    return x.transpose(2, 0, 1).astype('float32')\n",
    "\n",
    "def get_preprocessing(preprocessing_fn):\n",
    "    _transform = [\n",
    "        albu.Lambda(image=preprocessing_fn),\n",
    "        albu.Lambda(image=to_tensor, mask=to_tensor),\n",
    "    ]\n",
    "    return albu.Compose(_transform)"
   ]
  },
  {
   "cell_type": "code",
   "execution_count": 17,
   "metadata": {
    "colab": {
     "base_uri": "https://localhost:8080/",
     "height": 413
    },
    "id": "edmg3UIvYu2k",
    "outputId": "8c2ecaf2-472c-4cab-9695-70d0647a4c9c"
   },
   "outputs": [
    {
     "name": "stderr",
     "output_type": "stream",
     "text": [
      "/usr/local/lib/python3.7/dist-packages/albumentations/augmentations/transforms.py:1615: FutureWarning: This class has been deprecated. Please use RandomBrightnessContrast\n",
      "  FutureWarning,\n",
      "/usr/local/lib/python3.7/dist-packages/albumentations/augmentations/transforms.py:1641: FutureWarning: RandomContrast has been deprecated. Please use RandomBrightnessContrast\n",
      "  FutureWarning,\n"
     ]
    },
    {
     "data": {
      "image/png": "[encoded data removed]",
      "text/plain": [
       "<Figure size 1152x360 with 2 Axes>"
      ]
     },
     "metadata": {
      "needs_background": "light"
     },
     "output_type": "display_data"
    }
   ],
   "source": [
    "dataset = Dataset(x_train_dir,y_train_dir,classes=['foot'],augmentation=get_training_augmentation())\n",
    "image,mask = dataset[1]\n",
    "visualize(\n",
    "    image = image,\n",
    "    mask = mask.squeeze(),\n",
    ")\n"
   ]
  },
  {
   "cell_type": "markdown",
   "metadata": {
    "id": "AX1M1WDldiBL"
   },
   "source": [
    "# Create model and training"
   ]
  },
  {
   "cell_type": "code",
   "execution_count": 18,
   "metadata": {
    "colab": {
     "base_uri": "https://localhost:8080/"
    },
    "id": "XKF-h6CMdq-m",
    "outputId": "ed043d8e-1069-4053-bd32-b14701c057bf"
   },
   "outputs": [
    {
     "name": "stdout",
     "output_type": "stream",
     "text": [
      "/root/.local/lib/python3.7/site-packages\n"
     ]
    }
   ],
   "source": [
    "cd /root/.local/lib/python3.7/site-packages"
   ]
  },
  {
   "cell_type": "code",
   "execution_count": 19,
   "metadata": {
    "id": "bNEcefE5dlzF"
   },
   "outputs": [],
   "source": [
    "import torch\n",
    "import numpy as np\n",
    "import segmentation_models_pytorch as smp\n",
    "from segmentation_models_pytorch import utils"
   ]
  },
  {
   "cell_type": "code",
   "execution_count": 20,
   "metadata": {
    "colab": {
     "base_uri": "https://localhost:8080/",
     "height": 67,
     "referenced_widgets": [
      "a6483b46bfa1492e95a3c78fb09411b3",
      "f789ff2676624334af071aebe6fc832e",
      "04bc81cfbc344904ac164e8be240392b",
      "e02038409d2b44a5b6b7263c3a12c448",
      "3f526110844e4a708b3417d1eaf74d19",
      "067d35b23eb14a49a6a88141a450d407",
      "ca0ec2e6cc88427195769697d8566067",
      "6184709226df40589f91b12d310aefde",
      "506d5aeb07d54a9fb32dbe45f161005a",
      "75dc560b292e436a831c47e85ad061cb",
      "77d146d3b1e841ea9d0db20fee646c3f"
     ]
    },
    "id": "f26jQKvfdozr",
    "outputId": "297a1ccb-fcb9-4596-a64b-0178300c1a16"
   },
   "outputs": [
    {
     "name": "stderr",
     "output_type": "stream",
     "text": [
      "Downloading: \"https://download.pytorch.org/models/resnet34-333f7ec4.pth\" to /root/.cache/torch/hub/checkpoints/resnet34-333f7ec4.pth\n"
     ]
    },
    {
     "data": {
      "application/vnd.jupyter.widget-view+json": {
       "model_id": "a6483b46bfa1492e95a3c78fb09411b3",
       "version_major": 2,
       "version_minor": 0
      },
      "text/plain": [
       "  0%|          | 0.00/83.3M [00:00<?, ?B/s]"
      ]
     },
     "metadata": {},
     "output_type": "display_data"
    }
   ],
   "source": [
    "\n",
    "ENCODER = 'resnet34' # mạng resnet 34\n",
    "ENCODER_WEIGHTS = 'imagenet' # trọng số được đào tạo trc cho việc khởi tạo encoder là resnet18\n",
    "CLASSES = ['foot'] \n",
    "ACTIVATION = 'sigmoid' # could be None for logits or 'softmax2d' for multiclass segmentation\n",
    "DEVICE = 'cuda'\n",
    "model = smp.Unet(\n",
    "    encoder_name=ENCODER, \n",
    "    encoder_weights=ENCODER_WEIGHTS, \n",
    "    classes=len(CLASSES), \n",
    "    activation=ACTIVATION,\n",
    "    decoder_channels = [256,128,32,16,8]\n",
    ")\n",
    "preprocessing_fn = smp.encoders.get_preprocessing_fn(ENCODER, ENCODER_WEIGHTS) "
   ]
  },
  {
   "cell_type": "code",
   "execution_count": 21,
   "metadata": {
    "colab": {
     "base_uri": "https://localhost:8080/"
    },
    "id": "trGV1_8WfFD8",
    "outputId": "710f7696-0fb0-40ee-a0a5-31b18f4aeb08"
   },
   "outputs": [
    {
     "name": "stdout",
     "output_type": "stream",
     "text": [
      "/content\n"
     ]
    }
   ],
   "source": [
    "cd /content"
   ]
  },
  {
   "cell_type": "code",
   "execution_count": 22,
   "metadata": {
    "colab": {
     "base_uri": "https://localhost:8080/"
    },
    "id": "t3dLcGgWfKS1",
    "outputId": "469689b7-5c6b-42ef-ae96-d8fd5deaed08"
   },
   "outputs": [
    {
     "name": "stdout",
     "output_type": "stream",
     "text": [
      "Looking in indexes: https://pypi.org/simple, https://us-python.pkg.dev/colab-wheels/public/simple/\n",
      "Collecting Image\n",
      "  Downloading image-1.5.33.tar.gz (15 kB)\n",
      "Requirement already satisfied: pillow in /usr/local/lib/python3.7/dist-packages (from Image) (7.1.2)\n",
      "Collecting django\n",
      "  Downloading Django-3.2.13-py3-none-any.whl (7.9 MB)\n",
      "\u001b[K     |████████████████████████████████| 7.9 MB 11.7 MB/s \n",
      "\u001b[?25hRequirement already satisfied: six in /usr/local/lib/python3.7/dist-packages (from Image) (1.15.0)\n",
      "Collecting asgiref<4,>=3.3.2\n",
      "  Downloading asgiref-3.5.2-py3-none-any.whl (22 kB)\n",
      "Requirement already satisfied: pytz in /usr/local/lib/python3.7/dist-packages (from django->Image) (2022.1)\n",
      "Requirement already satisfied: sqlparse>=0.2.2 in /usr/local/lib/python3.7/dist-packages (from django->Image) (0.4.2)\n",
      "Requirement already satisfied: typing-extensions in /usr/local/lib/python3.7/dist-packages (from asgiref<4,>=3.3.2->django->Image) (4.1.1)\n",
      "Building wheels for collected packages: Image\n",
      "  Building wheel for Image (setup.py) ... \u001b[?25l\u001b[?25hdone\n",
      "  Created wheel for Image: filename=image-1.5.33-py2.py3-none-any.whl size=19496 sha256=c9cadfbdcfa27c4967b3674df29edb87f370c1ab471203852fd03e3226410045\n",
      "  Stored in directory: /root/.cache/pip/wheels/56/88/e6/897194cfe8c08a8b9afd881d3bf53d102e13fa39607d721383\n",
      "Successfully built Image\n",
      "Installing collected packages: asgiref, django, Image\n",
      "Successfully installed Image-1.5.33 asgiref-3.5.2 django-3.2.13\n"
     ]
    }
   ],
   "source": [
    "!pip install Image"
   ]
  },
  {
   "cell_type": "code",
   "execution_count": 23,
   "metadata": {
    "colab": {
     "base_uri": "https://localhost:8080/"
    },
    "id": "XqN9geSCOmfe",
    "outputId": "fdbc2be0-bcf7-4a41-9455-6fa80446cba9"
   },
   "outputs": [
    {
     "name": "stderr",
     "output_type": "stream",
     "text": [
      "/usr/local/lib/python3.7/dist-packages/albumentations/augmentations/transforms.py:1615: FutureWarning: This class has been deprecated. Please use RandomBrightnessContrast\n",
      "  FutureWarning,\n",
      "/usr/local/lib/python3.7/dist-packages/albumentations/augmentations/transforms.py:1641: FutureWarning: RandomContrast has been deprecated. Please use RandomBrightnessContrast\n",
      "  FutureWarning,\n"
     ]
    }
   ],
   "source": [
    "train_dataset = Dataset(\n",
    "    image_dir = x_train_dir,\n",
    "    mask_dir = y_train_dir,\n",
    "    classes = CLASSES,\n",
    "    augmentation = get_training_augmentation(),\n",
    "    preprocessing = get_preprocessing(preprocessing_fn),\n",
    "\n",
    ")"
   ]
  },
  {
   "cell_type": "code",
   "execution_count": 24,
   "metadata": {
    "colab": {
     "base_uri": "https://localhost:8080/"
    },
    "id": "LuUpejA3fLuO",
    "outputId": "bab62251-2f81-4939-dc24-8398da10dfba"
   },
   "outputs": [
    {
     "name": "stderr",
     "output_type": "stream",
     "text": [
      "/usr/local/lib/python3.7/dist-packages/torch/utils/data/dataloader.py:490: UserWarning: This DataLoader will create 12 worker processes in total. Our suggested max number of worker in current system is 2, which is smaller than what this DataLoader is going to create. Please be aware that excessive worker creation might get DataLoader running slow or even freeze, lower the worker number to avoid potential slowness/freeze if necessary.\n",
      "  cpuset_checked))\n",
      "/usr/local/lib/python3.7/dist-packages/torch/utils/data/dataloader.py:490: UserWarning: This DataLoader will create 4 worker processes in total. Our suggested max number of worker in current system is 2, which is smaller than what this DataLoader is going to create. Please be aware that excessive worker creation might get DataLoader running slow or even freeze, lower the worker number to avoid potential slowness/freeze if necessary.\n",
      "  cpuset_checked))\n"
     ]
    }
   ],
   "source": [
    "valid_dataset = Dataset(\n",
    "    x_valid_dir,\n",
    "    y_valid_dir,\n",
    "    CLASSES,\n",
    "    get_validation_augmention(),\n",
    "    get_preprocessing(preprocessing_fn),\n",
    ")\n",
    "train_loader = DataLoader(train_dataset, batch_size=8, shuffle=True, num_workers=12)\n",
    "valid_loader = DataLoader(valid_dataset,batch_size=1, shuffle=True, num_workers=4)"
   ]
  },
  {
   "cell_type": "code",
   "execution_count": null,
   "metadata": {
    "id": "pwTVgsnIsksO"
   },
   "outputs": [],
   "source": [
    "# Cái này tạm thời em không cần quan tâm \n",
    "# import torch.nn as nn\n",
    "# from torch.nn import BCELoss\n",
    "# class Loss(nn.Module):\n",
    "#   def __init__(self, weight = [0.5, 0.5]):\n",
    "#     super(Loss, self).__init__()\n",
    "#     self.bce = BCELoss()\n",
    "#     self.dice = smp.utils.losses.DiceLoss()\n",
    "#     self.weight = weight\n",
    "#   def __name__(self):\n",
    "#     return \"loss\"\n",
    "#   def forward(self, prediction, label):\n",
    "#     loss = self.weight[0]*self.bce(prediction, label) +self.weight[1]* self.dice(prediction, label)\n",
    "#     return loss"
   ]
  },
  {
   "cell_type": "code",
   "execution_count": 25,
   "metadata": {
    "id": "jtok8k3KfR5m"
   },
   "outputs": [],
   "source": [
    "# https://en.wikipedia.org/wiki/S%C3%B8rensen%E2%80%93Dice_coefficient\n",
    "# Đọc thêm ở đây dice score\n",
    "loss = smp.utils.losses.DiceLoss()\n",
    "# https://en.wikipedia.org/wiki/Jaccard_index\n",
    "# Xem iou score tại dây\n",
    "metrics = [\n",
    "           smp.utils.metrics.IoU(threshold=0.5)\n",
    "]\n",
    "optimizer = torch.optim.Adam([\n",
    "                            dict(params = model.parameters(),lr = 0.0001)\n",
    "])"
   ]
  },
  {
   "cell_type": "markdown",
   "metadata": {
    "id": "HG1lnVuS6s2b"
   },
   "source": [
    "# Create train epoch and valid epoch"
   ]
  },
  {
   "cell_type": "code",
   "execution_count": null,
   "metadata": {
    "id": "PgDWPwnY6zZd"
   },
   "outputs": [],
   "source": [
    "train_epoch = smp.utils.train.TrainEpoch(\n",
    "    model = model,\n",
    "    loss = loss,\n",
    "    metrics = metrics,\n",
    "    optimizer = optimizer,\n",
    "    device = DEVICE,\n",
    "    verbose=True,\n",
    ")\n",
    "valid_epoch = smp.utils.train.ValidEpoch(\n",
    "    model = model,\n",
    "    loss = loss,\n",
    "    metrics = metrics,\n",
    "    device = DEVICE,\n",
    "    verbose = True,\n",
    ")\n"
   ]
  },
  {
   "cell_type": "code",
   "execution_count": null,
   "metadata": {
    "id": "ga5IG2N07Vbb"
   },
   "outputs": [],
   "source": [
    "# tao n epoch\n",
    "min = 1\n",
    "n  = 50\n",
    "for i in range(n):\n",
    "  print(\"\\n Epoch: {}\".format(i+1))\n",
    "  train_logs = train_epoch.run(train_loader)\n",
    "  valid_logs = valid_epoch.run(valid_loader)\n",
    "  if min > valid_logs['iou_score'] :\n",
    "    max_score = valid_logs['iou_score']\n",
    "    torch.save(model, './best_model.pth')\n",
    "    print('Model saved!')\n",
    "  if i==50:\n",
    "    optimizer.param_groups[0]['lr'] = 1e-6\n",
    "  break\n",
    "  "
   ]
  },
  {
   "cell_type": "markdown",
   "metadata": {
    "id": "ch0B2j5BMiu4"
   },
   "source": [
    "# load best model"
   ]
  },
  {
   "cell_type": "code",
   "execution_count": null,
   "metadata": {
    "id": "HjPpSPpBMkLA"
   },
   "outputs": [],
   "source": [
    "# load best saved checkpoint\n",
    "best_model = torch.load('./best_model.pth')"
   ]
  },
  {
   "cell_type": "code",
   "execution_count": null,
   "metadata": {
    "id": "bRFPVp80MpGY"
   },
   "outputs": [],
   "source": [
    "test_dataset = Dataset(\n",
    "    x_test_dir, \n",
    "    y_test_dir, \n",
    "    augmentation=get_testing_augmention(), \n",
    "    preprocessing=get_preprocessing(preprocessing_fn),\n",
    "    classes=CLASSES,\n",
    ")\n",
    "test_dataloader = DataLoader(test_dataset)"
   ]
  },
  {
   "cell_type": "code",
   "execution_count": null,
   "metadata": {
    "id": "mci1YjXwMse7"
   },
   "outputs": [],
   "source": [
    "test_epoch = smp.utils.train.ValidEpoch(\n",
    "    model=best_model,\n",
    "    loss=loss,\n",
    "    metrics=metrics,\n",
    "    device=DEVICE,\n",
    ")\n",
    "\n",
    "logs = test_epoch.run(test_dataloader)"
   ]
  },
  {
   "cell_type": "markdown",
   "metadata": {
    "id": "2ItZ8qH6S5_M"
   },
   "source": []
  },
  {
   "cell_type": "code",
   "execution_count": null,
   "metadata": {
    "id": "rDFOskOAS6NO"
   },
   "outputs": [],
   "source": [
    "def SelectImageByArea(pr_mask): # Chọn phần ảnh có kích thước lớn nhất trong hình\n",
    "  # Đọc phần connected component để biết thêm về dạng kết nối 4 và 8\n",
    "  pr_mask = np.uint8(pr_mask)\n",
    "  output = cv2.connectedComponentsWithStats(pr_mask,4,cv2.CV_8S)\n",
    "  (totalLabels, label_ids, values, centroid) = output\n",
    "  output = np.zeros(pr_mask.shape, dtype=\"uint8\")\n",
    "  max = 0\n",
    "  for i in range(1, totalLabels):\n",
    "    area = values[i, cv2.CC_STAT_AREA] \n",
    "    if area > max:\n",
    "      max = area\n",
    "      componentMask = (label_ids == i).astype('int')\n",
    "  return componentMask\n"
   ]
  },
  {
   "cell_type": "markdown",
   "metadata": {
    "id": "BLJScDJOM5Qj"
   },
   "source": [
    "# visualize predictions"
   ]
  },
  {
   "cell_type": "code",
   "execution_count": null,
   "metadata": {
    "id": "KarmqNKgM8Ik"
   },
   "outputs": [],
   "source": [
    "test_dataset_vis = Dataset(\n",
    "    x_test_dir, y_test_dir, \n",
    "    classes=CLASSES,\n",
    ")"
   ]
  },
  {
   "cell_type": "code",
   "execution_count": null,
   "metadata": {
    "id": "J8p0fOKrM_eS"
   },
   "outputs": [],
   "source": [
    "for n in range(len(test_dataset_vis)):\n",
    "    #n = np.random.choice(len(test_dataset))\n",
    "    image_vis = test_dataset_vis[n][0].astype('uint8')\n",
    "    image, gt_mask = test_dataset[n]\n",
    "    gt_mask = gt_mask.squeeze()\n",
    "    x_tensor = torch.from_numpy(image).to(DEVICE).unsqueeze(0)\n",
    "    pr_mask = best_model.predict(x_tensor)\n",
    "    pr_mask = (pr_mask.squeeze().cpu().numpy().round())\n",
    "    SelectImageComponent =  SelectImageByArea(pr_mask)\n",
    "    visualize(\n",
    "        image=image_vis, \n",
    "        ground_truth_mask=test_dataset_vis[n][1].astype('uint8').squeeze(), \n",
    "        predicted_mask=pr_mask,\n",
    "        Select_Image_Component = SelectImageComponent,\n",
    "    )"
   ]
  },
  {
   "cell_type": "code",
   "execution_count": null,
   "metadata": {
    "id": "drfOq4uaPRkI"
   },
   "outputs": [],
   "source": []
  },
  {
   "cell_type": "markdown",
   "metadata": {
    "id": "KbfYhRiUw0xT"
   },
   "source": [
    "# Đưa mô hình lên web"
   ]
  },
  {
   "cell_type": "code",
   "execution_count": null,
   "metadata": {
    "id": "Qtc9tocEw7c_"
   },
   "outputs": [],
   "source": [
    "!pip install streamlit\n",
    "!pip install pyngrok\n",
    "!pip install Pillow"
   ]
  },
  {
   "cell_type": "code",
   "execution_count": null,
   "metadata": {
    "id": "fJKHhLb2xUAw"
   },
   "outputs": [],
   "source": [
    "!wget https://www.dropbox.com/s/zv5kg4ouwcpshrd/main.py\n",
    "!wget https://www.dropbox.com/s/do4emfwtxiz0okk/myutils.py"
   ]
  },
  {
   "cell_type": "code",
   "execution_count": null,
   "metadata": {
    "id": "hJEaZbiBw4B8"
   },
   "outputs": [],
   "source": [
    "from pyngrok import ngrok\n",
    "!ngrok authtoken 2AhG5IpBk6at0ZOZLlDs59i6npP_7GiBhgqZFPwPrqQaWjqSV"
   ]
  },
  {
   "cell_type": "code",
   "execution_count": null,
   "metadata": {
    "id": "PollX9pyxHHg"
   },
   "outputs": [],
   "source": [
    "!rm -r upload"
   ]
  },
  {
   "cell_type": "code",
   "execution_count": null,
   "metadata": {
    "id": "WrCHQ3zTxHNK"
   },
   "outputs": [],
   "source": [
    "!mkdir upload\n",
    "!mkdir upload/image upload/mask"
   ]
  },
  {
   "cell_type": "code",
   "execution_count": null,
   "metadata": {
    "id": "dyvftJgFxHQl"
   },
   "outputs": [],
   "source": [
    "!streamlit run --server.port 8080 main.py &>/dev/null&\n",
    "public_url = ngrok.connect(port='8501', proto='http')\n",
    "public_url"
   ]
  },
  {
   "cell_type": "code",
   "execution_count": null,
   "metadata": {
    "id": "KwLXBRdixHUO"
   },
   "outputs": [],
   "source": []
  }
 ],
 "metadata": {
  "accelerator": "GPU",
  "colab": {
   "collapsed_sections": [],
   "name": "PredictSize.ipynb",
   "provenance": []
  },
  "gpuClass": "standard",
  "kernelspec": {
   "display_name": "Python 3 (ipykernel)",
   "language": "python",
   "name": "python3"
  },
  "language_info": {
   "codemirror_mode": {
    "name": "ipython",
    "version": 3
   },
   "file_extension": ".py",
   "mimetype": "text/x-python",
   "name": "python",
   "nbconvert_exporter": "python",
   "pygments_lexer": "ipython3",
   "version": "3.8.8"
  },
  "widgets": {
   "application/vnd.jupyter.widget-state+json": {
    "04bc81cfbc344904ac164e8be240392b": {
     "model_module": "@jupyter-widgets/controls",
     "model_module_version": "1.5.0",
     "model_name": "FloatProgressModel",
     "state": {
      "_dom_classes": [],
      "_model_module": "@jupyter-widgets/controls",
      "_model_module_version": "1.5.0",
      "_model_name": "FloatProgressModel",
      "_view_count": null,
      "_view_module": "@jupyter-widgets/controls",
      "_view_module_version": "1.5.0",
      "_view_name": "ProgressView",
      "bar_style": "success",
      "description": "",
      "description_tooltip": null,
      "layout": "IPY_MODEL_6184709226df40589f91b12d310aefde",
      "max": 87306240,
      "min": 0,
      "orientation": "horizontal",
      "style": "IPY_MODEL_506d5aeb07d54a9fb32dbe45f161005a",
      "value": 87306240
     }
    },
    "067d35b23eb14a49a6a88141a450d407": {
     "model_module": "@jupyter-widgets/base",
     "model_module_version": "1.2.0",
     "model_name": "LayoutModel",
     "state": {
      "_model_module": "@jupyter-widgets/base",
      "_model_module_version": "1.2.0",
      "_model_name": "LayoutModel",
      "_view_count": null,
      "_view_module": "@jupyter-widgets/base",
      "_view_module_version": "1.2.0",
      "_view_name": "LayoutView",
      "align_content": null,
      "align_items": null,
      "align_self": null,
      "border": null,
      "bottom": null,
      "display": null,
      "flex": null,
      "flex_flow": null,
      "grid_area": null,
      "grid_auto_columns": null,
      "grid_auto_flow": null,
      "grid_auto_rows": null,
      "grid_column": null,
      "grid_gap": null,
      "grid_row": null,
      "grid_template_areas": null,
      "grid_template_columns": null,
      "grid_template_rows": null,
      "height": null,
      "justify_content": null,
      "justify_items": null,
      "left": null,
      "margin": null,
      "max_height": null,
      "max_width": null,
      "min_height": null,
      "min_width": null,
      "object_fit": null,
      "object_position": null,
      "order": null,
      "overflow": null,
      "overflow_x": null,
      "overflow_y": null,
      "padding": null,
      "right": null,
      "top": null,
      "visibility": null,
      "width": null
     }
    },
    "3f526110844e4a708b3417d1eaf74d19": {
     "model_module": "@jupyter-widgets/base",
     "model_module_version": "1.2.0",
     "model_name": "LayoutModel",
     "state": {
      "_model_module": "@jupyter-widgets/base",
      "_model_module_version": "1.2.0",
      "_model_name": "LayoutModel",
      "_view_count": null,
      "_view_module": "@jupyter-widgets/base",
      "_view_module_version": "1.2.0",
      "_view_name": "LayoutView",
      "align_content": null,
      "align_items": null,
      "align_self": null,
      "border": null,
      "bottom": null,
      "display": null,
      "flex": null,
      "flex_flow": null,
      "grid_area": null,
      "grid_auto_columns": null,
      "grid_auto_flow": null,
      "grid_auto_rows": null,
      "grid_column": null,
      "grid_gap": null,
      "grid_row": null,
      "grid_template_areas": null,
      "grid_template_columns": null,
      "grid_template_rows": null,
      "height": null,
      "justify_content": null,
      "justify_items": null,
      "left": null,
      "margin": null,
      "max_height": null,
      "max_width": null,
      "min_height": null,
      "min_width": null,
      "object_fit": null,
      "object_position": null,
      "order": null,
      "overflow": null,
      "overflow_x": null,
      "overflow_y": null,
      "padding": null,
      "right": null,
      "top": null,
      "visibility": null,
      "width": null
     }
    },
    "506d5aeb07d54a9fb32dbe45f161005a": {
     "model_module": "@jupyter-widgets/controls",
     "model_module_version": "1.5.0",
     "model_name": "ProgressStyleModel",
     "state": {
      "_model_module": "@jupyter-widgets/controls",
      "_model_module_version": "1.5.0",
      "_model_name": "ProgressStyleModel",
      "_view_count": null,
      "_view_module": "@jupyter-widgets/base",
      "_view_module_version": "1.2.0",
      "_view_name": "StyleView",
      "bar_color": null,
      "description_width": ""
     }
    },
    "6184709226df40589f91b12d310aefde": {
     "model_module": "@jupyter-widgets/base",
     "model_module_version": "1.2.0",
     "model_name": "LayoutModel",
     "state": {
      "_model_module": "@jupyter-widgets/base",
      "_model_module_version": "1.2.0",
      "_model_name": "LayoutModel",
      "_view_count": null,
      "_view_module": "@jupyter-widgets/base",
      "_view_module_version": "1.2.0",
      "_view_name": "LayoutView",
      "align_content": null,
      "align_items": null,
      "align_self": null,
      "border": null,
      "bottom": null,
      "display": null,
      "flex": null,
      "flex_flow": null,
      "grid_area": null,
      "grid_auto_columns": null,
      "grid_auto_flow": null,
      "grid_auto_rows": null,
      "grid_column": null,
      "grid_gap": null,
      "grid_row": null,
      "grid_template_areas": null,
      "grid_template_columns": null,
      "grid_template_rows": null,
      "height": null,
      "justify_content": null,
      "justify_items": null,
      "left": null,
      "margin": null,
      "max_height": null,
      "max_width": null,
      "min_height": null,
      "min_width": null,
      "object_fit": null,
      "object_position": null,
      "order": null,
      "overflow": null,
      "overflow_x": null,
      "overflow_y": null,
      "padding": null,
      "right": null,
      "top": null,
      "visibility": null,
      "width": null
     }
    },
    "75dc560b292e436a831c47e85ad061cb": {
     "model_module": "@jupyter-widgets/base",
     "model_module_version": "1.2.0",
     "model_name": "LayoutModel",
     "state": {
      "_model_module": "@jupyter-widgets/base",
      "_model_module_version": "1.2.0",
      "_model_name": "LayoutModel",
      "_view_count": null,
      "_view_module": "@jupyter-widgets/base",
      "_view_module_version": "1.2.0",
      "_view_name": "LayoutView",
      "align_content": null,
      "align_items": null,
      "align_self": null,
      "border": null,
      "bottom": null,
      "display": null,
      "flex": null,
      "flex_flow": null,
      "grid_area": null,
      "grid_auto_columns": null,
      "grid_auto_flow": null,
      "grid_auto_rows": null,
      "grid_column": null,
      "grid_gap": null,
      "grid_row": null,
      "grid_template_areas": null,
      "grid_template_columns": null,
      "grid_template_rows": null,
      "height": null,
      "justify_content": null,
      "justify_items": null,
      "left": null,
      "margin": null,
      "max_height": null,
      "max_width": null,
      "min_height": null,
      "min_width": null,
      "object_fit": null,
      "object_position": null,
      "order": null,
      "overflow": null,
      "overflow_x": null,
      "overflow_y": null,
      "padding": null,
      "right": null,
      "top": null,
      "visibility": null,
      "width": null
     }
    },
    "77d146d3b1e841ea9d0db20fee646c3f": {
     "model_module": "@jupyter-widgets/controls",
     "model_module_version": "1.5.0",
     "model_name": "DescriptionStyleModel",
     "state": {
      "_model_module": "@jupyter-widgets/controls",
      "_model_module_version": "1.5.0",
      "_model_name": "DescriptionStyleModel",
      "_view_count": null,
      "_view_module": "@jupyter-widgets/base",
      "_view_module_version": "1.2.0",
      "_view_name": "StyleView",
      "description_width": ""
     }
    },
    "a6483b46bfa1492e95a3c78fb09411b3": {
     "model_module": "@jupyter-widgets/controls",
     "model_module_version": "1.5.0",
     "model_name": "HBoxModel",
     "state": {
      "_dom_classes": [],
      "_model_module": "@jupyter-widgets/controls",
      "_model_module_version": "1.5.0",
      "_model_name": "HBoxModel",
      "_view_count": null,
      "_view_module": "@jupyter-widgets/controls",
      "_view_module_version": "1.5.0",
      "_view_name": "HBoxView",
      "box_style": "",
      "children": [
       "IPY_MODEL_f789ff2676624334af071aebe6fc832e",
       "IPY_MODEL_04bc81cfbc344904ac164e8be240392b",
       "IPY_MODEL_e02038409d2b44a5b6b7263c3a12c448"
      ],
      "layout": "IPY_MODEL_3f526110844e4a708b3417d1eaf74d19"
     }
    },
    "ca0ec2e6cc88427195769697d8566067": {
     "model_module": "@jupyter-widgets/controls",
     "model_module_version": "1.5.0",
     "model_name": "DescriptionStyleModel",
     "state": {
      "_model_module": "@jupyter-widgets/controls",
      "_model_module_version": "1.5.0",
      "_model_name": "DescriptionStyleModel",
      "_view_count": null,
      "_view_module": "@jupyter-widgets/base",
      "_view_module_version": "1.2.0",
      "_view_name": "StyleView",
      "description_width": ""
     }
    },
    "e02038409d2b44a5b6b7263c3a12c448": {
     "model_module": "@jupyter-widgets/controls",
     "model_module_version": "1.5.0",
     "model_name": "HTMLModel",
     "state": {
      "_dom_classes": [],
      "_model_module": "@jupyter-widgets/controls",
      "_model_module_version": "1.5.0",
      "_model_name": "HTMLModel",
      "_view_count": null,
      "_view_module": "@jupyter-widgets/controls",
      "_view_module_version": "1.5.0",
      "_view_name": "HTMLView",
      "description": "",
      "description_tooltip": null,
      "layout": "IPY_MODEL_75dc560b292e436a831c47e85ad061cb",
      "placeholder": "​",
      "style": "IPY_MODEL_77d146d3b1e841ea9d0db20fee646c3f",
      "value": " 83.3M/83.3M [00:03&lt;00:00, 21.0MB/s]"
     }
    },
    "f789ff2676624334af071aebe6fc832e": {
     "model_module": "@jupyter-widgets/controls",
     "model_module_version": "1.5.0",
     "model_name": "HTMLModel",
     "state": {
      "_dom_classes": [],
      "_model_module": "@jupyter-widgets/controls",
      "_model_module_version": "1.5.0",
      "_model_name": "HTMLModel",
      "_view_count": null,
      "_view_module": "@jupyter-widgets/controls",
      "_view_module_version": "1.5.0",
      "_view_name": "HTMLView",
      "description": "",
      "description_tooltip": null,
      "layout": "IPY_MODEL_067d35b23eb14a49a6a88141a450d407",
      "placeholder": "​",
      "style": "IPY_MODEL_ca0ec2e6cc88427195769697d8566067",
      "value": "100%"
     }
    }
   }
  }
 },
 "nbformat": 4,
 "nbformat_minor": 1
}
